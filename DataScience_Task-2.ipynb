{
 "cells": [
  {
   "cell_type": "code",
   "execution_count": null,
   "metadata": {},
   "outputs": [],
   "source": [
    "import pandas as pd\n",
    "import numpy as np\n",
    "import matplotlib.pyplot as plt\n",
    "import seaborn as sns"
   ]
  },
  {
   "cell_type": "code",
   "execution_count": null,
   "metadata": {},
   "outputs": [],
   "source": [
    "path = r'C:\\Users\\galig\\Downloads\\Dataset.csv'\n",
    "titanic_data = pd.read_csv(path, on_bad_lines='skip')"
   ]
  },
  {
   "cell_type": "code",
   "execution_count": null,
   "metadata": {},
   "outputs": [],
   "source": [
    "# Display basic info and summary statistics\n",
    "print(titanic_data.info())\n",
    "print(titanic_data.describe())"
   ]
  },
  {
   "cell_type": "code",
   "execution_count": null,
   "metadata": {},
   "outputs": [],
   "source": [
    "# Visualize missing data\n",
    "plt.figure(figsize=(10, 6))\n",
    "sns.heatmap(titanic_data.isnull(), cbar=False, cmap=\"viridis\")\n",
    "plt.title(\"Missing Values Heatmap\")\n",
    "plt.show()"
   ]
  },
  {
   "cell_type": "code",
   "execution_count": null,
   "metadata": {},
   "outputs": [],
   "source": [
    "# Survival Analysis by Gender\n",
    "sns.countplot(data=titanic_data, x=\"Survived\", hue=\"Sex\")\n",
    "plt.title(\"Survival by Gender\")\n",
    "plt.show()"
   ]
  },
  {
   "cell_type": "code",
   "execution_count": null,
   "metadata": {},
   "outputs": [],
   "source": [
    "# Survival by Age Groups\n",
    "titanic_data[\"AgeGroup\"] = pd.cut(titanic_data[\"Age\"], bins=[0, 12, 18, 35, 60, 80], \n",
    "                                  labels=[\"Child\", \"Teen\", \"Adult\", \"Middle Aged\", \"Senior\"])\n",
    "sns.countplot(data=titanic_data, x=\"AgeGroup\", hue=\"Survived\")\n",
    "plt.title(\"Survival by Age Group\")\n",
    "plt.show()"
   ]
  },
  {
   "cell_type": "code",
   "execution_count": null,
   "metadata": {},
   "outputs": [],
   "source": [
    "# Survival by Embarked\n",
    "sns.countplot(data=titanic_data, x=\"Embarked\", hue=\"Survived\")\n",
    "plt.title(\"Survival by Embarkation Point\")\n",
    "plt.show()"
   ]
  },
  {
   "cell_type": "code",
   "execution_count": null,
   "metadata": {},
   "outputs": [],
   "source": [
    "\n",
    "numerical_data = titanic_data.select_dtypes(include=['float64', 'int64'])\n",
    "numerical_data = numerical_data.fillna(numerical_data.mean())\n",
    "correlation_matrix = numerical_data.corr()\n",
    "plt.figure(figsize=(10, 8))\n",
    "sns.heatmap(correlation_matrix, annot=True, cmap=\"coolwarm\", fmt=\".2f\")\n",
    "plt.title(\"Correlation Heatmap\")\n",
    "plt.show()"
   ]
  },
  {
   "cell_type": "code",
   "execution_count": null,
   "metadata": {},
   "outputs": [],
   "source": [
    "# Feature Engineering: Family Size\n",
    "titanic_data[\"FamilySize\"] = titanic_data[\"SibSp\"] + titanic_data[\"Parch\"] + 1\n",
    "sns.barplot(data=titanic_data, x=\"FamilySize\", y=\"Survived\")\n",
    "plt.title(\"Survival by Family Size\")\n",
    "plt.show()"
   ]
  },
  {
   "cell_type": "code",
   "execution_count": null,
   "metadata": {},
   "outputs": [],
   "source": [
    "# Feature Engineering: Titles from Names\n",
    "titanic_data[\"Title\"] = titanic_data[\"Name\"].str.extract(\" ([A-Za-z]+)\\.\", expand=False)\n",
    "sns.countplot(data=titanic_data, x=\"Title\", hue=\"Survived\", order=titanic_data[\"Title\"].value_counts().index)\n",
    "plt.title(\"Survival by Title\")\n",
    "plt.xticks(rotation=45)\n",
    "plt.show()"
   ]
  },
  {
   "cell_type": "code",
   "execution_count": null,
   "metadata": {},
   "outputs": [],
   "source": [
    "# Survival by Fare\n",
    "sns.boxplot(data=titanic_data, x=\"Survived\", y=\"Fare\")\n",
    "plt.title(\"Fare Distribution by Survival\")\n",
    "plt.show()\n"
   ]
  },
  {
   "cell_type": "code",
   "execution_count": null,
   "metadata": {},
   "outputs": [],
   "source": []
  }
 ],
 "metadata": {
  "kernelspec": {
   "display_name": "Python 3",
   "language": "python",
   "name": "python3"
  },
  "language_info": {
   "codemirror_mode": {
    "name": "ipython",
    "version": 3
   },
   "file_extension": ".py",
   "mimetype": "text/x-python",
   "name": "python",
   "nbconvert_exporter": "python",
   "pygments_lexer": "ipython3",
   "version": "3.13.0"
  }
 },
 "nbformat": 4,
 "nbformat_minor": 2
}
